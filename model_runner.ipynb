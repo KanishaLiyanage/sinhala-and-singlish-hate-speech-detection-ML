{
 "cells": [
  {
   "cell_type": "code",
   "execution_count": 1,
   "metadata": {},
   "outputs": [],
   "source": [
    "import joblib\n",
    "import numpy as np\n",
    "from sklearn.feature_extraction.text import TfidfVectorizer"
   ]
  },
  {
   "cell_type": "code",
   "execution_count": 2,
   "metadata": {},
   "outputs": [],
   "source": [
    "vectorizor = joblib.load('vectorizor/vectorizer.pkl')"
   ]
  },
  {
   "cell_type": "code",
   "execution_count": 3,
   "metadata": {},
   "outputs": [],
   "source": [
    "svm_model = 'models/svm_model.joblib'\n",
    "svm_model = joblib.load(svm_model)"
   ]
  },
  {
   "cell_type": "code",
   "execution_count": 7,
   "metadata": {},
   "outputs": [],
   "source": [
    "sinhala_sentence = \"මොනව උනත් පොලිසියෙ ඉන්නෙ බල්ලො\"\n",
    "# sinhala_sentence = \"එ උනාට පොලිසියට උදවු කලාට වැඩක් නැ.\""
   ]
  },
  {
   "cell_type": "code",
   "execution_count": 8,
   "metadata": {},
   "outputs": [
    {
     "name": "stdout",
     "output_type": "stream",
     "text": [
      "එ උනාට පොලිසියට උදවු කලාට වැඩක් නැ. - Not a Hate Speech\n"
     ]
    }
   ],
   "source": [
    "def classify_sentence(sentence, vectorizer, model):\n",
    "    transformed_text = vectorizer.transform([sentence])\n",
    "    transformed_text_dense = transformed_text.toarray()\n",
    "    predicted_label = model.predict(transformed_text_dense)\n",
    "    \n",
    "    return f'{sentence} - {\"Hate Speech\" if predicted_label[0] == \"YES\" else \"Not a Hate Speech\"}'\n",
    "\n",
    "print(classify_sentence(sinhala_sentence, vectorizor, svm_model))"
   ]
  }
 ],
 "metadata": {
  "kernelspec": {
   "display_name": "Python 3",
   "language": "python",
   "name": "python3"
  },
  "language_info": {
   "codemirror_mode": {
    "name": "ipython",
    "version": 3
   },
   "file_extension": ".py",
   "mimetype": "text/x-python",
   "name": "python",
   "nbconvert_exporter": "python",
   "pygments_lexer": "ipython3",
   "version": "3.10.6"
  }
 },
 "nbformat": 4,
 "nbformat_minor": 2
}
